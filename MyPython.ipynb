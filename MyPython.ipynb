{
 "cells": [
  {
   "cell_type": "code",
   "execution_count": 1,
   "id": "b6552b48",
   "metadata": {},
   "outputs": [
    {
     "name": "stdout",
     "output_type": "stream",
     "text": [
      "Zoom\n"
     ]
    }
   ],
   "source": [
    "'''1) Write a Python program that displays a message as follows for a given number:\n",
    "   If it is a multiple of 3, display \"Zip\"\n",
    "   If it is a multiple of 5, display \"Zap\"\n",
    "   If it is a multiple of both 3 and 5, display \"Zoom\"\n",
    "   If it does not satisfy any of the above given conditions, display \"Invalid\" '''\n",
    "\n",
    "x = 15\n",
    "if(x%3==0 and x%5==0):\n",
    "    print('Zoom')\n",
    "elif(x%3==0):\n",
    "    print('Zip')\n",
    "elif(x%5==0):\n",
    "    print('Zap')\n",
    "else:\n",
    "    print('Invalid')"
   ]
  },
  {
   "cell_type": "code",
   "execution_count": 2,
   "id": "c9a67c57",
   "metadata": {},
   "outputs": [
    {
     "name": "stdout",
     "output_type": "stream",
     "text": [
      "Invalid number!\n",
      "Zip\n",
      "Zap\n",
      "Zoom\n"
     ]
    }
   ],
   "source": [
    "def main():\n",
    "    zzz(7)\n",
    "    zzz(6)\n",
    "    zzz(5)\n",
    "    zzz(30)\n",
    "\n",
    "\n",
    "def zzz(number):\n",
    "    if number % 3 == 0 and number % 5 == 0:\n",
    "        print(\"Zoom\")\n",
    "    elif number % 3 == 0:\n",
    "        print(\"Zip\")\n",
    "    elif number % 5 == 0:\n",
    "        print(\"Zap\")\n",
    "    else:\n",
    "        print(\"Invalid number!\")\n",
    "\n",
    "\n",
    "main()\n"
   ]
  },
  {
   "cell_type": "code",
   "execution_count": 3,
   "id": "fd2ce172",
   "metadata": {},
   "outputs": [
    {
     "name": "stdout",
     "output_type": "stream",
     "text": [
      "14\n"
     ]
    }
   ],
   "source": [
    "#2) Write a Python program to find the sum of digits of a given number.\n",
    "\n",
    "a = 2048\n",
    "sum = 0\n",
    "for digit in str(a):\n",
    "    sum += int(digit)\n",
    "print(sum)"
   ]
  },
  {
   "cell_type": "code",
   "execution_count": 4,
   "id": "60bb669a",
   "metadata": {},
   "outputs": [
    {
     "name": "stdout",
     "output_type": "stream",
     "text": [
      "14\n"
     ]
    }
   ],
   "source": [
    "a = 2048\n",
    "\n",
    "def sum(a):\n",
    "    sum=0\n",
    "    while(a!=0):\n",
    "        i = a%10\n",
    "        sum+=i\n",
    "        a = a//10\n",
    "    return sum\n",
    "print(sum(a))"
   ]
  },
  {
   "cell_type": "code",
   "execution_count": 5,
   "id": "0eb91667",
   "metadata": {},
   "outputs": [
    {
     "name": "stdout",
     "output_type": "stream",
     "text": [
      "Enter the year: 2000\n",
      "It's a leap year\n"
     ]
    }
   ],
   "source": [
    "#3) Write a Python program to check whether the given year is leap year or not.\n",
    "\n",
    "''' A leap year is exactly divisible by 4 except for century years (years ending with 00). The century year is a leap year only \n",
    "if it is perfectly divisible  by 400.'''\n",
    "year = int(input(\"Enter the year: \"))\n",
    "\n",
    "if(year%4==0 and year%100!=0) or (year%400==0):\n",
    "    print('It\\'s a leap year')\n",
    "else:\n",
    "    print('It is not a leap year')\n"
   ]
  },
  {
   "cell_type": "code",
   "execution_count": 8,
   "id": "12bf6a5d",
   "metadata": {},
   "outputs": [
    {
     "name": "stdout",
     "output_type": "stream",
     "text": [
      "Enter the year: 2025\n",
      "It is not a leap year\n"
     ]
    }
   ],
   "source": [
    "year = int(input(\"Enter the year: \"))\n",
    "\n",
    "if(year%4==0 and year%100!=0):\n",
    "    print('It\\'s a leap year')\n",
    "elif (year%400==0 and year%100==0):\n",
    "    print('It\\'s a leap year')\n",
    "else:\n",
    "    print('It is not a leap year')\n"
   ]
  },
  {
   "cell_type": "code",
   "execution_count": 13,
   "id": "5c18b19f",
   "metadata": {},
   "outputs": [
    {
     "name": "stdout",
     "output_type": "stream",
     "text": [
      "20 is the max of all\n"
     ]
    }
   ],
   "source": [
    "#4) Write a Python program to find and display the maximum of three given numbers.\n",
    "\n",
    "a,b,c = 9,20,8\n",
    "if(a>b and a>c):\n",
    "    print(a,'is the max of all')\n",
    "elif(b>c):\n",
    "    print(b,'is the max of all')\n",
    "else:\n",
    "    print(c,'is the max of all')"
   ]
  },
  {
   "cell_type": "code",
   "execution_count": 14,
   "id": "a9f5b1ae",
   "metadata": {},
   "outputs": [
    {
     "name": "stdout",
     "output_type": "stream",
     "text": [
      "20\n"
     ]
    }
   ],
   "source": [
    "a,b,c = 9,20,8\n",
    "print(max(a,b,c))"
   ]
  },
  {
   "cell_type": "code",
   "execution_count": 2,
   "id": "09cf90f4",
   "metadata": {},
   "outputs": [
    {
     "name": "stdout",
     "output_type": "stream",
     "text": [
      "20\n"
     ]
    }
   ],
   "source": [
    "a,b,c = 9,20,8\n",
    "list=[a,b,c]\n",
    "print(max(a,b,c))"
   ]
  },
  {
   "cell_type": "code",
   "execution_count": 5,
   "id": "44b67544",
   "metadata": {},
   "outputs": [
    {
     "name": "stdout",
     "output_type": "stream",
     "text": [
      "Enter the no.: 7\n",
      "7 is a prime number\n"
     ]
    }
   ],
   "source": [
    "#5) Write a Python program to check the given number is prime number or not.\n",
    "\n",
    "num = int(input(\"Enter the no.: \"))\n",
    "# If given number is greater than 1\n",
    "if num > 1:\n",
    "\n",
    "    for i in range(2, int(num/2)+1):\n",
    "        if (num % i) == 0:\n",
    "            print(num, \"is not a prime number\")\n",
    "            break\n",
    "    else:\n",
    "        print(num, \"is a prime number\")\n",
    "else:\n",
    "    print(num, \"is not a prime number\")\n"
   ]
  },
  {
   "cell_type": "code",
   "execution_count": 12,
   "id": "cceee7c5",
   "metadata": {},
   "outputs": [
    {
     "name": "stdout",
     "output_type": "stream",
     "text": [
      "Enter no. of terms: 5\n",
      "Fibonacci series upto  5 terms: \n",
      "0\n",
      "1\n",
      "1\n",
      "2\n",
      "3\n"
     ]
    }
   ],
   "source": [
    "#6) Write a Python program to print first n Fibonacci numbers.\n",
    "'''A Fibonacci sequence is the integer sequence of 0, 1, 1, 2, 3, 5, 8....'''\n",
    "\n",
    "nTerms = int(input(\"Enter no. of terms: \"))\n",
    "count = 0\n",
    "\n",
    "n1, n2= 0,1 #first 2 values\n",
    "\n",
    "if(nTerms<=0):\n",
    "    print(\"Please enter a natural no.\")\n",
    "elif(nTerms==1):\n",
    "    print(\"Fibonacci series upto \", nTerms, \"terms: \")\n",
    "    print(n1)\n",
    "else:\n",
    "    print(\"Fibonacci series upto \", nTerms, \"terms: \")\n",
    "    \n",
    "    while(count<nTerms):\n",
    "        print(n1)\n",
    "        nth=n1+n2\n",
    "        n1=n2\n",
    "        n2=nth\n",
    "        \n",
    "        count+=1"
   ]
  },
  {
   "cell_type": "code",
   "execution_count": 7,
   "id": "a050e5de",
   "metadata": {},
   "outputs": [
    {
     "name": "stdout",
     "output_type": "stream",
     "text": [
      "Enter your current salary: 460000\n",
      "Enter your job level: 3\n",
      "New salary:  529000.0\n"
     ]
    }
   ],
   "source": [
    "'''7) An organization has decided to provide salary hike to its employees based on their job level. Employees can be in job \n",
    " levels 3 , 4 or 5. Hike percentage based on job levels are given below:\n",
    " \n",
    "   Job level          Hike Percentage (applicable on current salary)\n",
    "\n",
    "       3                           15\n",
    "       4                            7\n",
    "       5                            5\n",
    "   In case of invalid job level, consider hike percentage to be 0.\n",
    "   Given the current salary and job level, write a Python program to find and display the new salary of an employee. '''\n",
    "\n",
    "curr_sal = float(input(\"Enter your current salary: \"))\n",
    "job_level = int(input(\"Enter your job level: \"))\n",
    "\n",
    "if(job_level==3):\n",
    "    i=(curr_sal*15)/100\n",
    "    ns=curr_sal+i\n",
    "    print(\"New salary: \",ns)\n",
    "    \n",
    "elif(job_level==4):\n",
    "    i=(curr_sal*7)/100\n",
    "    ns=curr_sal+i\n",
    "    print(\"New salary: \",ns)\n",
    "\n",
    "elif(job_level==5):\n",
    "    i=(curr_sal*5)/100\n",
    "    ns=curr_sal+i\n",
    "    print(\"New salary: \",ns)\n",
    "    \n",
    "else:\n",
    "    print(\"Please enter valid value\")\n",
    "\n"
   ]
  },
  {
   "cell_type": "code",
   "execution_count": 8,
   "id": "1c541ffb",
   "metadata": {},
   "outputs": [
    {
     "name": "stdout",
     "output_type": "stream",
     "text": [
      "Proceed with normal security check\n",
      "Check the person\n",
      "Check for cabin baggage\n",
      "Proceed with normal security check\n",
      "Check the person\n",
      "Check for cabin baggage\n",
      "No check required\n",
      "Proceed with normal security check\n",
      "Check the person\n",
      "Check for cabin baggage\n",
      "No check required\n",
      "Declare emergency in the airport\n"
     ]
    }
   ],
   "source": [
    "'''\n",
    "8)  Go through the below code, Assume A – Adult passenger, C- Child, FC – Flight Captain, FA – Flight Attendant, SP – Suspicious\n",
    " passenger.  Also, assume the following conditions:\n",
    "    Flight captains and attendants do not require to check-in.\n",
    "    In case suspicious passengers are found, need to declare an emergency at the airport.\n",
    "    For other passengers such as adults and children, need to proceed with normal security check.'''\n",
    "\n",
    "for passenger in \"A\",\"A\", \"FC\", \"C\", \"FA\", \"SP\", \"A\", \"A\":\n",
    "    if(passenger==\"FA\" or passenger==\"FC\"):\n",
    "        print(\"No check required\")\n",
    "        continue\n",
    "    if(passenger==\"SP\"):\n",
    "        print(\"Declare emergency in the airport\")\n",
    "        break\n",
    "    if(passenger==\"A\" or passenger==\"C\"):\n",
    "        print(\"Proceed with normal security check\")\n",
    "    print(\"Check the person\")\n",
    "    print(\"Check for cabin baggage\")"
   ]
  },
  {
   "cell_type": "code",
   "execution_count": 10,
   "id": "24e30933",
   "metadata": {},
   "outputs": [
    {
     "name": "stdout",
     "output_type": "stream",
     "text": [
      "Security check of passenger:  1 --baggage:  1 baggage cleared\n",
      "Security check of passenger:  1 --baggage:  2 baggage cleared\n",
      "Security check of passenger:  2 --baggage:  1 baggage cleared\n",
      "Security check of passenger:  2 --baggage:  2 baggage cleared\n",
      "Security check of passenger:  3 --baggage:  1 baggage cleared\n",
      "Security check of passenger:  3 --baggage:  2 baggage cleared\n",
      "Security check of passenger:  4 --baggage:  1 baggage cleared\n",
      "Security check of passenger:  4 --baggage:  2 baggage cleared\n",
      "Security check of passenger:  5 --baggage:  1 baggage cleared\n",
      "Security check of passenger:  5 --baggage:  2 baggage cleared\n"
     ]
    }
   ],
   "source": [
    "'''9) Assume that there are 5 passengers and each of them have 2 baggages. The below code will make sure that all baggages of \n",
    " each passenger have undergone the security check.'''\n",
    "\n",
    "num_of_passengers=5\n",
    "num_of_baggages=2\n",
    "\n",
    "security_check=True\n",
    "\n",
    "for passenger_count in range(1, num_of_passengers+1):\n",
    "    for baggage_count in range(1, num_of_baggages+1):\n",
    "        if(security_check==True):\n",
    "            print(\"Security check of passenger: \", passenger_count, \"--baggage: \", baggage_count, \"baggage cleared\")\n",
    "        else:\n",
    "            print(\"Security check of passenger: \", passenger_count, \"--baggage: \", baggage_count, \"baggage not cleared\")"
   ]
  },
  {
   "cell_type": "code",
   "execution_count": 13,
   "id": "3816f207",
   "metadata": {},
   "outputs": [
    {
     "name": "stdout",
     "output_type": "stream",
     "text": [
      "Enter a number: 17\n",
      "289\n"
     ]
    }
   ],
   "source": [
    "'''10) Write a Python function, find_square() that accepts an integer number n and returns the square of n. Invoke the function\n",
    " and display the square of the number.'''\n",
    "\n",
    "num= int(input(\"Enter a number: \"))\n",
    "\n",
    "def find_square(n):\n",
    "    return pow(n,2)\n",
    "print(find_square(num))\n",
    "\n"
   ]
  },
  {
   "cell_type": "code",
   "execution_count": 24,
   "id": "647cf7e1",
   "metadata": {},
   "outputs": [
    {
     "name": "stdout",
     "output_type": "stream",
     "text": [
      "Enter a number: 6\n",
      "21\n"
     ]
    }
   ],
   "source": [
    "'''11) Write a Python function, find_sum() that accepts an integer n and returns the sum of first n numbers. Invoke the function\n",
    " and display the sum of first n numbers.'''\n",
    "\n",
    "num= int(input(\"Enter a number: \"))\n",
    "if(num<0 ):\n",
    "    print(\"Enter a positive number\")\n",
    "else:\n",
    "    def find_sum(n):\n",
    "     sum=0\n",
    "     while(n>0):\n",
    "        sum+=n\n",
    "        n-=1\n",
    "     return sum\n",
    "print(find_sum(num))"
   ]
  },
  {
   "cell_type": "code",
   "execution_count": 19,
   "id": "a06b11c4",
   "metadata": {},
   "outputs": [
    {
     "name": "stdout",
     "output_type": "stream",
     "text": [
      "Enter a number: 6\n",
      "21\n"
     ]
    }
   ],
   "source": [
    "num= int(input(\"Enter a number: \"))\n",
    "def getSum(num):\n",
    "  if num == 1:\n",
    "    return 1\n",
    "  return num + getSum(num-1) #recursion\n",
    "\n",
    "print(getSum(num))\n",
    "\n",
    "\n"
   ]
  },
  {
   "cell_type": "code",
   "execution_count": null,
   "id": "2e62525a",
   "metadata": {},
   "outputs": [],
   "source": [
    "#13) Write a Python function factorial(num) which returns the factorial of a given number."
   ]
  }
 ],
 "metadata": {
  "kernelspec": {
   "display_name": "Python 3 (ipykernel)",
   "language": "python",
   "name": "python3"
  },
  "language_info": {
   "codemirror_mode": {
    "name": "ipython",
    "version": 3
   },
   "file_extension": ".py",
   "mimetype": "text/x-python",
   "name": "python",
   "nbconvert_exporter": "python",
   "pygments_lexer": "ipython3",
   "version": "3.9.13"
  }
 },
 "nbformat": 4,
 "nbformat_minor": 5
}
